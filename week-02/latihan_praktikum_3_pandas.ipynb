{
  "nbformat": 4,
  "nbformat_minor": 0,
  "metadata": {
    "colab": {
      "provenance": [],
      "authorship_tag": "ABX9TyPmP8pEw58D5+l7w4qMpbDk",
      "include_colab_link": true
    },
    "kernelspec": {
      "name": "python3",
      "display_name": "Python 3"
    },
    "language_info": {
      "name": "python"
    }
  },
  "cells": [
    {
      "cell_type": "markdown",
      "metadata": {
        "id": "view-in-github",
        "colab_type": "text"
      },
      "source": [
        "<a href=\"https://colab.research.google.com/github/Hazuna227/221230039-Pengantar-ML/blob/main/week-02/latihan_praktikum_3_pandas.ipynb\" target=\"_parent\"><img src=\"https://colab.research.google.com/assets/colab-badge.svg\" alt=\"Open In Colab\"/></a>"
      ]
    },
    {
      "cell_type": "markdown",
      "source": [
        "LATIHAN 3: OPERASI PANDAS UNTUK DATA ANALYSIS"
      ],
      "metadata": {
        "id": "dXndhMZvhrWK"
      }
    },
    {
      "cell_type": "code",
      "execution_count": 1,
      "metadata": {
        "colab": {
          "base_uri": "https://localhost:8080/"
        },
        "id": "2X92QMKuhn8R",
        "outputId": "f23542ae-812f-4abb-aba1-365d1865f14b"
      },
      "outputs": [
        {
          "output_type": "stream",
          "name": "stdout",
          "text": [
            "✅ Revenue per product:\n",
            " product_id\n",
            "8     32062.915807\n",
            "9     30812.566464\n",
            "7     30786.212454\n",
            "5     29894.628309\n",
            "6     29771.241361\n",
            "2     28433.373576\n",
            "3     27360.489903\n",
            "10    25146.428705\n",
            "1     24953.204554\n",
            "4     23950.525430\n",
            "Name: revenue, dtype: float64\n",
            "\n",
            "✅ Top 5 customers:\n",
            " customer_id\n",
            "38    5239.536260\n",
            "59    5185.221233\n",
            "89    4759.149270\n",
            "94    4690.528278\n",
            "15    4657.289888\n",
            "Name: revenue, dtype: float64\n",
            "\n",
            "✅ Daily revenue (first 10 days):\n",
            " date\n",
            "2023-01-01    5268.121555\n",
            "2023-01-02    4656.102661\n",
            "2023-01-03    3226.578585\n",
            "2023-01-04    2462.071219\n",
            "2023-01-05    3741.645829\n",
            "2023-01-06    2617.910977\n",
            "2023-01-07    2503.241611\n",
            "2023-01-08    5032.490882\n",
            "2023-01-09    4344.183819\n",
            "2023-01-10    1700.299375\n",
            "Name: revenue, dtype: float64\n",
            "\n",
            "✅ Quantity anomalies (first 5 rows):\n",
            " Empty DataFrame\n",
            "Columns: [date, product_id, quantity, price, customer_id, revenue]\n",
            "Index: []\n",
            "\n",
            "✅ Pandas operations completed\n"
          ]
        }
      ],
      "source": [
        "import numpy as np\n",
        "import pandas as pd\n",
        "\n",
        "# =========================\n",
        "# Create sample retail dataset\n",
        "# =========================\n",
        "np.random.seed(42)\n",
        "dates = pd.date_range('2023-01-01', '2023-03-31', freq='D')\n",
        "retail_data = pd.DataFrame({\n",
        "    'date': np.random.choice(dates, 1000),\n",
        "    'product_id': np.random.randint(1, 11, 1000),\n",
        "    'quantity': np.random.randint(1, 10, 1000),\n",
        "    'price': np.random.uniform(10, 100, 1000),\n",
        "    'customer_id': np.random.randint(1, 101, 1000)\n",
        "})\n",
        "retail_data['revenue'] = retail_data['quantity'] * retail_data['price']\n",
        "\n",
        "# =========================\n",
        "# TODO 1: Total revenue per product\n",
        "# =========================\n",
        "revenue_per_product = retail_data.groupby('product_id')['revenue'].sum().sort_values(ascending=False)\n",
        "print(\"✅ Revenue per product:\\n\", revenue_per_product)\n",
        "\n",
        "# =========================\n",
        "# TODO 2: Top 5 customers by total spending\n",
        "# =========================\n",
        "top_customers = retail_data.groupby('customer_id')['revenue'].sum().sort_values(ascending=False).head(5)\n",
        "print(\"\\n✅ Top 5 customers:\\n\", top_customers)\n",
        "\n",
        "# =========================\n",
        "# TODO 3: Time series - daily revenue\n",
        "# =========================\n",
        "daily_revenue = retail_data.groupby('date')['revenue'].sum().sort_index()\n",
        "print(\"\\n✅ Daily revenue (first 10 days):\\n\", daily_revenue.head(10))\n",
        "\n",
        "# =========================\n",
        "# TODO 4: Detect anomalies in quantity\n",
        "# =========================\n",
        "def detect_quantity_anomalies(df, threshold=2):\n",
        "    \"\"\"\n",
        "    Detect anomalies in 'quantity' using Z-score\n",
        "    Input: df - dataframe with 'quantity' column\n",
        "           threshold - Z-score threshold (default=2)\n",
        "    Output: DataFrame with anomaly rows\n",
        "    \"\"\"\n",
        "    if 'quantity' not in df.columns:\n",
        "        raise ValueError(\"DataFrame harus memiliki kolom 'quantity'\")\n",
        "\n",
        "    mean_qty = df['quantity'].mean()\n",
        "    std_qty = df['quantity'].std()\n",
        "\n",
        "    z_scores = (df['quantity'] - mean_qty) / std_qty\n",
        "    anomalies_df = df[np.abs(z_scores) > threshold]\n",
        "\n",
        "    return anomalies_df\n",
        "\n",
        "anomalies = detect_quantity_anomalies(retail_data)\n",
        "print(\"\\n✅ Quantity anomalies (first 5 rows):\\n\", anomalies.head())\n",
        "\n",
        "# =========================\n",
        "# Validasi sederhana\n",
        "# =========================\n",
        "assert len(revenue_per_product) <= 10, \"Should have max 10 products\"\n",
        "assert len(top_customers) == 5, \"Should have top 5 customers\"\n",
        "print(\"\\n✅ Pandas operations completed\")\n"
      ]
    }
  ]
}