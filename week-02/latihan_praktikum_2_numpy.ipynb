{
  "nbformat": 4,
  "nbformat_minor": 0,
  "metadata": {
    "colab": {
      "provenance": [],
      "authorship_tag": "ABX9TyPmlOAeSYO/ylVRzKb+u9ig",
      "include_colab_link": true
    },
    "kernelspec": {
      "name": "python3",
      "display_name": "Python 3"
    },
    "language_info": {
      "name": "python"
    }
  },
  "cells": [
    {
      "cell_type": "markdown",
      "metadata": {
        "id": "view-in-github",
        "colab_type": "text"
      },
      "source": [
        "<a href=\"https://colab.research.google.com/github/Hazuna227/221230039-Pengantar-ML/blob/main/week-02/latihan_praktikum_2_numpy.ipynb\" target=\"_parent\"><img src=\"https://colab.research.google.com/assets/colab-badge.svg\" alt=\"Open In Colab\"/></a>"
      ]
    },
    {
      "cell_type": "markdown",
      "source": [
        "LATIHAN 2: OPERASI NUMPY UNTUK MACHINE LEARNING"
      ],
      "metadata": {
        "id": "YwcAWeVtg00m"
      }
    },
    {
      "cell_type": "code",
      "execution_count": 1,
      "metadata": {
        "colab": {
          "base_uri": "https://localhost:8080/"
        },
        "id": "T1N3DsEKevvl",
        "outputId": "5c055a11-6d0d-49a3-c5ac-714bb0ab187b"
      },
      "outputs": [
        {
          "output_type": "stream",
          "name": "stdout",
          "text": [
            "✅ NumPy operations completed\n",
            "X_normalized:\n",
            " [[ 0.604418   -0.21979528  0.75746006  1.461092   -0.18919425]\n",
            " [-0.21141045  1.53420502  0.87977344 -0.62585547  0.53845484]\n",
            " [-0.46735006 -0.55422449  0.34303561 -2.13809665 -1.58578836]\n",
            " [-0.57771567 -1.1129603   0.41687036 -1.08519209 -1.2929218 ]\n",
            " [ 1.68601234 -0.30916828  0.16486193 -1.62640854 -0.47982667]]\n",
            "X_cleaned:\n",
            " [[ 0.604418   -0.21979528  0.75746006  1.461092   -0.18919425]\n",
            " [-0.21141045  1.53420502  0.87977344 -0.62585547  0.53845484]\n",
            " [-0.46735006 -0.55422449  0.34303561 -2.13809665 -1.58578836]\n",
            " [-0.57771567 -1.1129603   0.41687036 -1.08519209 -1.2929218 ]\n",
            " [ 1.68601234 -0.30916828  0.16486193 -1.62640854 -0.47982667]]\n",
            "One-hot labels:\n",
            " [[1. 0. 0.]\n",
            " [0. 1. 0.]\n",
            " [0. 0. 1.]\n",
            " [1. 0. 0.]\n",
            " [0. 1. 0.]\n",
            " [0. 0. 1.]\n",
            " [1. 0. 0.]]\n"
          ]
        }
      ],
      "source": [
        "import numpy as np\n",
        "\n",
        "# Dataset simulasi: 100 samples, 5 features\n",
        "np.random.seed(42)\n",
        "X = np.random.randn(100, 5) * 10 + 5  # Mean=5, Std=10\n",
        "\n",
        "# =========================\n",
        "# TODO 1: Z-score Normalization\n",
        "# =========================\n",
        "def z_score_normalization(data):\n",
        "    \"\"\"\n",
        "    Normalisasi Z-score: (x - mean) / std\n",
        "    Input: data (numpy array)\n",
        "    Output: normalized data dengan mean=0, std=1\n",
        "    \"\"\"\n",
        "    if data.size == 0:\n",
        "        raise ValueError(\"Input data kosong\")\n",
        "\n",
        "    mean = np.mean(data, axis=0)\n",
        "    std = np.std(data, axis=0)\n",
        "\n",
        "    # Menghindari pembagian dengan 0\n",
        "    std_corrected = np.where(std == 0, 1, std)\n",
        "\n",
        "    normalized = (data - mean) / std_corrected\n",
        "    return normalized\n",
        "\n",
        "X_normalized = z_score_normalization(X)\n",
        "\n",
        "# =========================\n",
        "# TODO 2: Handle Outliers\n",
        "# =========================\n",
        "def handle_outliers(data, std_threshold=3):\n",
        "    \"\"\"\n",
        "    Clip values di luar ±std_threshold\n",
        "    Input: data (numpy array), std_threshold (default=3)\n",
        "    Output: data dengan outlier di-clipping\n",
        "    \"\"\"\n",
        "    if data.size == 0:\n",
        "        raise ValueError(\"Input data kosong\")\n",
        "\n",
        "    # Hitung mean & std per kolom\n",
        "    mean = np.mean(data, axis=0)\n",
        "    std = np.std(data, axis=0)\n",
        "\n",
        "    upper_bound = mean + std_threshold * std\n",
        "    lower_bound = mean - std_threshold * std\n",
        "\n",
        "    # Clip semua nilai sesuai batas\n",
        "    clipped = np.clip(data, lower_bound, upper_bound)\n",
        "    return clipped\n",
        "\n",
        "X_cleaned = handle_outliers(X_normalized)\n",
        "\n",
        "# =========================\n",
        "# TODO 3: One-hot Encoding\n",
        "# =========================\n",
        "def one_hot_encoding(labels):\n",
        "    \"\"\"\n",
        "    Convert label kategorikal menjadi one-hot encoding\n",
        "    Input: labels (1D numpy array)\n",
        "    Output: 2D numpy array one-hot\n",
        "    \"\"\"\n",
        "    if labels.size == 0:\n",
        "        raise ValueError(\"Input labels kosong\")\n",
        "\n",
        "    n_classes = np.max(labels) + 1\n",
        "    one_hot = np.eye(n_classes)[labels]\n",
        "    return one_hot\n",
        "\n",
        "labels = np.array([0, 1, 2, 0, 1, 2, 0])\n",
        "one_hot_labels = one_hot_encoding(labels)\n",
        "\n",
        "# =========================\n",
        "# TODO 4: Train-test Split Manual\n",
        "# =========================\n",
        "def train_test_split_numpy(X, y, test_size=0.2, random_seed=42):\n",
        "    \"\"\"\n",
        "    Split dataset menjadi train dan test secara manual\n",
        "    Input: X (features), y (labels), test_size (float 0-1)\n",
        "    Output: X_train, X_test, y_train, y_test\n",
        "    \"\"\"\n",
        "    if X.shape[0] != y.shape[0]:\n",
        "        raise ValueError(\"Jumlah samples X dan y harus sama\")\n",
        "    if not (0 < test_size < 1):\n",
        "        raise ValueError(\"test_size harus antara 0 dan 1\")\n",
        "\n",
        "    np.random.seed(random_seed)\n",
        "    indices = np.random.permutation(X.shape[0])\n",
        "    test_count = int(X.shape[0] * test_size)\n",
        "\n",
        "    test_idx = indices[:test_count]\n",
        "    train_idx = indices[test_count:]\n",
        "\n",
        "    X_train = X[train_idx]\n",
        "    X_test = X[test_idx]\n",
        "    y_train = y[train_idx]\n",
        "    y_test = y[test_idx]\n",
        "\n",
        "    return X_train, X_test, y_train, y_test\n",
        "\n",
        "X_train, X_test, y_train, y_test = train_test_split_numpy(X, np.random.randint(0, 3, 100))\n",
        "\n",
        "# =========================\n",
        "# Validasi hasil\n",
        "# =========================\n",
        "assert X_normalized.shape == X.shape, \"Shape should remain same\"\n",
        "assert np.allclose(X_normalized.mean(), 0, atol=1e-10), \"Mean should be ~0 after z-score\"\n",
        "assert np.allclose(X_normalized.std(), 1, atol=1e-10), \"Std should be ~1 after z-score\"\n",
        "\n",
        "print(\"✅ NumPy operations completed\")\n",
        "print(\"X_normalized:\\n\", X_normalized[:5])\n",
        "print(\"X_cleaned:\\n\", X_cleaned[:5])\n",
        "print(\"One-hot labels:\\n\", one_hot_labels)\n"
      ]
    }
  ]
}