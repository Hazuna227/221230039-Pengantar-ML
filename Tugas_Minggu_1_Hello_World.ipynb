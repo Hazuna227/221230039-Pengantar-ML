{
  "nbformat": 4,
  "nbformat_minor": 0,
  "metadata": {
    "colab": {
      "provenance": [],
      "authorship_tag": "ABX9TyO8l22A3YkSAPp5GFUc+KWF",
      "include_colab_link": true
    },
    "kernelspec": {
      "name": "python3",
      "display_name": "Python 3"
    },
    "language_info": {
      "name": "python"
    }
  },
  "cells": [
    {
      "cell_type": "markdown",
      "metadata": {
        "id": "view-in-github",
        "colab_type": "text"
      },
      "source": [
        "<a href=\"https://colab.research.google.com/github/Hazuna227/221230039-Pengantar-ML/blob/main/Tugas_Minggu_1_Hello_World.ipynb\" target=\"_parent\"><img src=\"https://colab.research.google.com/assets/colab-badge.svg\" alt=\"Open In Colab\"/></a>"
      ]
    },
    {
      "cell_type": "code",
      "execution_count": 1,
      "metadata": {
        "colab": {
          "base_uri": "https://localhost:8080/"
        },
        "id": "jsbhkctwghN0",
        "outputId": "f9e896eb-2700-4403-ab9e-d304d7e4be74"
      },
      "outputs": [
        {
          "output_type": "stream",
          "name": "stdout",
          "text": [
            "Hello, World!\n",
            "Selamat datang di Mata Kuliah Pengantar Machine Learning!\n",
            "Nama: Figo Firnanda\n",
            "NIM: 221230039\n"
          ]
        }
      ],
      "source": [
        "print(\"Hello, World!\")\n",
        "print(\"Selamat datang di Mata Kuliah Pengantar Machine Learning!\")\n",
        "print(\"Nama: Figo Firnanda\")\n",
        "print(\"NIM: 221230039\")"
      ]
    }
  ]
}