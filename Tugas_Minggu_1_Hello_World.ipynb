{
  "nbformat": 4,
  "nbformat_minor": 0,
  "metadata": {
    "colab": {
      "provenance": [],
      "authorship_tag": "ABX9TyNZ/bIXDNw28bzshR9SI4LC",
      "include_colab_link": true
    },
    "kernelspec": {
      "name": "python3",
      "display_name": "Python 3"
    },
    "language_info": {
      "name": "python"
    }
  },
  "cells": [
    {
      "cell_type": "markdown",
      "metadata": {
        "id": "view-in-github",
        "colab_type": "text"
      },
      "source": [
        "<a href=\"https://colab.research.google.com/github/Hazuna227/221230039-Pengantar-ML/blob/main/Tugas_Minggu_1_Hello_World.ipynb\" target=\"_parent\"><img src=\"https://colab.research.google.com/assets/colab-badge.svg\" alt=\"Open In Colab\"/></a>"
      ]
    },
    {
      "cell_type": "code",
      "execution_count": null,
      "metadata": {
        "colab": {
          "base_uri": "https://localhost:8080/"
        },
        "id": "jsbhkctwghN0",
        "outputId": "8646a0c5-12fc-4efc-fe29-45296ec9b2fb"
      },
      "outputs": [
        {
          "output_type": "stream",
          "name": "stdout",
          "text": [
            "Hello, World!\n",
            "Selamat datang di Mata Kuliah Pengantar Machine Learning!\n",
            "Nama: Figo Firnanda\n",
            "NIM: 221230039\n",
            "Makanan Favorit: Ayam Geprek\n"
          ]
        }
      ],
      "source": [
        "print(\"Hello, World!\")\n",
        "print(\"Selamat datang di Mata Kuliah Pengantar Machine Learning!\")\n",
        "print(\"Nama: Figo Firnanda\")\n",
        "print(\"NIM: 221230039\")\n",
        "print(\"Makanan Favorit: Ayam Geprek\")\n"
      ]
    }
  ]
}